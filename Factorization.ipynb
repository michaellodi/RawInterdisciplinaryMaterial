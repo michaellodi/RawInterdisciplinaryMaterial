{
  "cells": [
    {
      "cell_type": "code",
      "execution_count": null,
      "metadata": {
        "colab": {
          "background_save": true,
          "base_uri": "https://localhost:8080/"
        },
        "id": "U2F2I7k9gO1E",
        "outputId": "6ff9ab98-6ad3-430d-f055-23698490c79c"
      },
      "outputs": [
        {
          "metadata": {
            "tags": null
          },
          "name": "stdout",
          "output_type": "stream",
          "text": [
            "Fast {17: 1, 23: 1}\n",
            "Naive [17, 23]\n",
            "\n",
            "Fast {2147483647: 1, 2305843009213693951: 1}\n"
          ]
        }
      ],
      "source": [
        "#Naive algorithm\n",
        "def factor_slow(n):\n",
        "    from math import sqrt\n",
        "    P = []\n",
        "    # insert the number of 2's that divide n\n",
        "    while n % 2 == 0:\n",
        "        P.append(2)\n",
        "        n = n // 2\n",
        "    # n must be odd at this point\n",
        "    # so a skip of 2 ( i = i + 2) can be used\n",
        "    for i in range(3, int(sqrt(n))+1, 2):\n",
        "        # while i divides n, print i ad divide n\n",
        "        while n % i == 0:\n",
        "            P.append(i)\n",
        "            n = n // i        \n",
        "    # Condition if n is a prime\n",
        "    # number greater than 2\n",
        "    if n > 2:\n",
        "        P.append(n)\n",
        "    return P\n",
        "\n",
        "#Fast algorithm\n",
        "from sympy.ntheory import factorint as factor_fast\n",
        "\n",
        "\n",
        "\n",
        "#Examples\n",
        "\n",
        "n = 17*23\n",
        "print(\"Fast\", factor_fast(n))\n",
        "print(\"Naive\", factor_slow(n))\n",
        "\n",
        "print()\n",
        "\n",
        "n = 2147483647*2305843009213693951\n",
        "print(\"Fast\", factor_fast(n))\n",
        "print(\"Naive\", factor_slow(n))\n",
        "\n"
      ]
    }
  ],
  "metadata": {
    "colab": {
      "provenance": []
    },
    "kernelspec": {
      "display_name": "Python 3",
      "name": "python3"
    },
    "language_info": {
      "name": "python"
    }
  },
  "nbformat": 4,
  "nbformat_minor": 0
}
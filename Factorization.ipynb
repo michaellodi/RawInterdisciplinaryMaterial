{
  "cells": [
    {
      "cell_type": "code",
      "execution_count": null,
      "metadata": {
        "colab": {
          "background_save": true,
          "base_uri": "https://localhost:8080/"
        },
        "id": "U2F2I7k9gO1E",
        "outputId": "6ff9ab98-6ad3-430d-f055-23698490c79c",
        "vscode": {
          "languageId": "python"
        }
      },
      "outputs": [
        {
          "ename": "",
          "evalue": "",
          "output_type": "error",
          "traceback": [
            "\u001b[1;31mNon è stato possibile avviare il kernel. \n",
            "\u001b[1;31mPer ulteriori dettagli, visualizzare Jupyter <a href='command:jupyter.viewOutput'>log</a>."
          ]
        }
      ],
      "source": [
        "#Naive algorithm\n",
        "def factor_slow(n):\n",
        "    from math import sqrt\n",
        "    P = []\n",
        "    # insert the number of 2's that divide n\n",
        "    while n % 2 == 0:\n",
        "        P.append(2)\n",
        "        n = n // 2\n",
        "    # n must be odd at this point\n",
        "    # so a skip of 2 ( i = i + 2) can be used\n",
        "    for i in range(3, int(sqrt(n))+1, 2):\n",
        "        # while i divides n, print i ad divide n\n",
        "        while n % i == 0:\n",
        "            P.append(i)\n",
        "            n = n // i        \n",
        "    # Condition if n is a prime\n",
        "    # number greater than 2\n",
        "    if n > 2:\n",
        "        P.append(n)\n",
        "    return P\n",
        "\n",
        "#\"Fast\" (but still non polynomial) algorithm\n",
        "from sympy.ntheory import factorint as factor_fast\n",
        "#https://docs.sympy.org/latest/modules/ntheory.html#sympy.ntheory.factor_.factorint\n",
        "import time\n",
        "\n",
        "\n",
        "\n",
        "# Examples\n",
        "\n",
        "n = (2**4) * (5**3)\n",
        "print(\"Factorize (2**4) * (5**3)\")\n",
        "start = time.time()\n",
        "print(\"Fast\", factor_fast(n), \"Time:\", round(time.time() - start, 1), \"seconds\")\n",
        "start = time.time()\n",
        "print(\"Naive\", factor_slow(n), \"Time:\", round(time.time() - start, 1), \"seconds\")\n",
        "\n",
        "print()\n",
        "n = 17 * 23\n",
        "print(\"Factorize 17 * 23\")\n",
        "start = time.time()\n",
        "print(\"Fast\", factor_fast(n), \"Time:\", round(time.time() - start, 1), \"seconds\")\n",
        "start = time.time()\n",
        "print(\"Naive\", factor_slow(n), \"Time:\", round(time.time() - start, 1), \"seconds\")\n",
        "\n",
        "print()\n",
        "n = 2147483647 * 2305843009213693951\n",
        "print(\"Factorize 2147483647 * 2305843009213693951\")\n",
        "start = time.time()\n",
        "print(\"Fast\", factor_fast(n), \"Time:\", round(time.time() - start, 1), \"seconds\")\n",
        "print(\"Naive\", \"too slow\")\n",
        "\n",
        "print()\n",
        "n = 2676607067193594284941 * 4333458088721427467771\n",
        "print(\"Factorize 2676607067193594284941 * 4333458088721427467771\")\n",
        "start = time.time()\n",
        "print(\"Fast\", factor_fast(n), \"Time:\", round(time.time() - start, 1), \"seconds\")\n",
        "print(\"Naive\", \"too slow\")\n",
        "\n",
        "print()\n",
        "n = 274773041643489468379441637 * 270564760803293593289520467\n",
        "print(\"Factorize 274773041643489468379441637 * 270564760803293593289520467\")\n",
        "start = time.time()\n",
        "print(\"Fast\", factor_fast(n), \"Time:\", round(time.time() - start, 1), \"seconds, too slow anyway\")\n",
        "print(\"Naive\", \"too slow\")\n"
      ]
    }
  ],
  "metadata": {
    "colab": {
      "provenance": []
    },
    "kernelspec": {
      "display_name": "SageMath 10.5",
      "language": "sage",
      "name": "SageMath-10.5"
    },
    "language_info": {
      "name": "sage"
    }
  },
  "nbformat": 4,
  "nbformat_minor": 0
}
